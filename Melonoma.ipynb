{
  "nbformat": 4,
  "nbformat_minor": 0,
  "metadata": {
    "colab": {
      "name": "Melonoma",
      "provenance": [],
      "collapsed_sections": [],
      "authorship_tag": "ABX9TyPNNMLbrBLpP1NsyZ7wwl+2",
      "include_colab_link": true
    },
    "kernelspec": {
      "name": "python3",
      "display_name": "Python 3"
    },
    "accelerator": "GPU"
  },
  "cells": [
    {
      "cell_type": "markdown",
      "metadata": {
        "id": "view-in-github",
        "colab_type": "text"
      },
      "source": [
        "<a href=\"https://colab.research.google.com/github/codefupanda/kaggle-projects/blob/master/Melonoma.ipynb\" target=\"_parent\"><img src=\"https://colab.research.google.com/assets/colab-badge.svg\" alt=\"Open In Colab\"/></a>"
      ]
    },
    {
      "cell_type": "markdown",
      "metadata": {
        "id": "z73Uz0QO3PnS",
        "colab_type": "text"
      },
      "source": [
        "# Installs, Utils, Configurations, etc"
      ]
    },
    {
      "cell_type": "code",
      "metadata": {
        "id": "WleRYWAtCAoq",
        "colab_type": "code",
        "colab": {
          "base_uri": "https://localhost:8080/",
          "height": 326
        },
        "outputId": "3bdf8081-e992-48e8-e9c9-d4ec2d2379a3"
      },
      "source": [
        "pip install -U efficientnet"
      ],
      "execution_count": null,
      "outputs": [
        {
          "output_type": "stream",
          "text": [
            "Requirement already up-to-date: efficientnet in /usr/local/lib/python3.6/dist-packages (1.1.0)\n",
            "Requirement already satisfied, skipping upgrade: scikit-image in /usr/local/lib/python3.6/dist-packages (from efficientnet) (0.16.2)\n",
            "Requirement already satisfied, skipping upgrade: keras-applications<=1.0.8,>=1.0.7 in /usr/local/lib/python3.6/dist-packages (from efficientnet) (1.0.8)\n",
            "Requirement already satisfied, skipping upgrade: imageio>=2.3.0 in /usr/local/lib/python3.6/dist-packages (from scikit-image->efficientnet) (2.4.1)\n",
            "Requirement already satisfied, skipping upgrade: pillow>=4.3.0 in /usr/local/lib/python3.6/dist-packages (from scikit-image->efficientnet) (7.0.0)\n",
            "Requirement already satisfied, skipping upgrade: matplotlib!=3.0.0,>=2.0.0 in /usr/local/lib/python3.6/dist-packages (from scikit-image->efficientnet) (3.2.2)\n",
            "Requirement already satisfied, skipping upgrade: scipy>=0.19.0 in /usr/local/lib/python3.6/dist-packages (from scikit-image->efficientnet) (1.4.1)\n",
            "Requirement already satisfied, skipping upgrade: PyWavelets>=0.4.0 in /usr/local/lib/python3.6/dist-packages (from scikit-image->efficientnet) (1.1.1)\n",
            "Requirement already satisfied, skipping upgrade: networkx>=2.0 in /usr/local/lib/python3.6/dist-packages (from scikit-image->efficientnet) (2.4)\n",
            "Requirement already satisfied, skipping upgrade: numpy>=1.9.1 in /usr/local/lib/python3.6/dist-packages (from keras-applications<=1.0.8,>=1.0.7->efficientnet) (1.18.5)\n",
            "Requirement already satisfied, skipping upgrade: h5py in /usr/local/lib/python3.6/dist-packages (from keras-applications<=1.0.8,>=1.0.7->efficientnet) (2.10.0)\n",
            "Requirement already satisfied, skipping upgrade: kiwisolver>=1.0.1 in /usr/local/lib/python3.6/dist-packages (from matplotlib!=3.0.0,>=2.0.0->scikit-image->efficientnet) (1.2.0)\n",
            "Requirement already satisfied, skipping upgrade: pyparsing!=2.0.4,!=2.1.2,!=2.1.6,>=2.0.1 in /usr/local/lib/python3.6/dist-packages (from matplotlib!=3.0.0,>=2.0.0->scikit-image->efficientnet) (2.4.7)\n",
            "Requirement already satisfied, skipping upgrade: python-dateutil>=2.1 in /usr/local/lib/python3.6/dist-packages (from matplotlib!=3.0.0,>=2.0.0->scikit-image->efficientnet) (2.8.1)\n",
            "Requirement already satisfied, skipping upgrade: cycler>=0.10 in /usr/local/lib/python3.6/dist-packages (from matplotlib!=3.0.0,>=2.0.0->scikit-image->efficientnet) (0.10.0)\n",
            "Requirement already satisfied, skipping upgrade: decorator>=4.3.0 in /usr/local/lib/python3.6/dist-packages (from networkx>=2.0->scikit-image->efficientnet) (4.4.2)\n",
            "Requirement already satisfied, skipping upgrade: six in /usr/local/lib/python3.6/dist-packages (from h5py->keras-applications<=1.0.8,>=1.0.7->efficientnet) (1.12.0)\n"
          ],
          "name": "stdout"
        }
      ]
    },
    {
      "cell_type": "markdown",
      "metadata": {
        "id": "NtBUelt8u5iu",
        "colab_type": "text"
      },
      "source": [
        "## Imports"
      ]
    },
    {
      "cell_type": "code",
      "metadata": {
        "id": "WewkcQAvzNt5",
        "colab_type": "code",
        "colab": {}
      },
      "source": [
        "# The basics\n",
        "import numpy as np\n",
        "import pandas as pd\n",
        "\n",
        "# Some plotting\n",
        "import plotly.graph_objects as go\n",
        "import plotly.express as px\n",
        "\n",
        "#sklear\n",
        "import sklearn\n",
        "from sklearn import model_selection\n",
        "from sklearn.utils.class_weight import compute_class_weight\n",
        "from sklearn.model_selection import train_test_split\n",
        "\n",
        "## Keras\n",
        "import tensorflow as tf\n",
        "from tensorflow.keras import metrics\n",
        "from tensorflow.keras import models\n",
        "from tensorflow.keras import layers\n",
        "from tensorflow.keras import optimizers\n",
        "from tensorflow.keras import regularizers\n",
        "from tensorflow.keras import backend as K\n",
        "from tensorflow.keras.models import load_model\n",
        "from tensorflow.keras.preprocessing.image import ImageDataGenerator\n",
        "from tensorflow.keras.utils import to_categorical\n",
        "from tensorflow.keras.applications import VGG16\n",
        "from tensorflow.keras.applications import ResNet152V2\n",
        "\n",
        "# efficientnet\n",
        "import efficientnet.tfkeras as efn \n",
        "\n",
        "# Etc\n",
        "import os\n",
        "import gc\n",
        "import shutil\n",
        "import collections\n",
        "import psutil\n",
        "import glob"
      ],
      "execution_count": null,
      "outputs": []
    },
    {
      "cell_type": "markdown",
      "metadata": {
        "id": "T7gvvw-H3nQR",
        "colab_type": "text"
      },
      "source": [
        "## Utils"
      ]
    },
    {
      "cell_type": "code",
      "metadata": {
        "id": "3eqKdWKH3Gyd",
        "colab_type": "code",
        "colab": {}
      },
      "source": [
        "def gdrive_mount():\n",
        "  from google.colab import drive\n",
        "  drive.mount('/content/gdrive', force_remount=True)"
      ],
      "execution_count": null,
      "outputs": []
    },
    {
      "cell_type": "code",
      "metadata": {
        "id": "xxEKUa2mXjh3",
        "colab_type": "code",
        "colab": {}
      },
      "source": [
        "def is_gpu():\n",
        "  device_name = tf.test.gpu_device_name()\n",
        "  if device_name != '/device:GPU:0':\n",
        "    return False\n",
        "  print('Found GPU at: {}'.format(device_name))\n",
        "  return True"
      ],
      "execution_count": null,
      "outputs": []
    },
    {
      "cell_type": "code",
      "metadata": {
        "id": "TShGEPxjcL72",
        "colab_type": "code",
        "colab": {}
      },
      "source": [
        "def tf_init():\n",
        "  tf.config.optimizer.set_experimental_options({\"auto_mixed_precision\": True})"
      ],
      "execution_count": null,
      "outputs": []
    },
    {
      "cell_type": "code",
      "metadata": {
        "id": "1NWO0iJR3Z3d",
        "colab_type": "code",
        "colab": {}
      },
      "source": [
        "class Kaggle:\n",
        "\n",
        "  def __init__(self, competition_name=None, dataset_name=None, kaggle_config_dir='/content/gdrive/My Drive/Colab Notebooks/.kaggle', base_folder='/tmp'):\n",
        "    if competition_name:\n",
        "      self.name = competition_name\n",
        "      self.competition = True\n",
        "    if dataset_name:\n",
        "      self.name = dataset_name\n",
        "      self.dataset = True \n",
        "    self.kaggle_config_dir = kaggle_config_dir\n",
        "    self.base_folder = base_folder\n",
        "    self.path = os.path.join(self.base_folder, self.name)\n",
        "    os.environ['KAGGLE_CONFIG_DIR'] = kaggle_config_dir\n",
        "\n",
        "  def download(self):\n",
        "    if self.dataset:\n",
        "      return os.system('kaggle datasets download -d ' + self.name + ' -p ' + self.path)\n",
        "    return os.system('kaggle competitions download -c ' + self.name + ' -p ' + self.path)\n",
        "\n",
        "  def download_file(self, file_name, sub_folder=''):\n",
        "    if self.dataset:\n",
        "      return os.system('kaggle datasets download -d ' + self.name + ' -p ' + os.path.join(self.path, sub_folder) + ' -f ' + file_name)\n",
        "    return os.system('kaggle competitions download -c ' + self.name + ' -p ' + os.path.join(self.path, sub_folder) + ' -f ' + file_name)\n",
        "\n",
        "  def show_files(self):\n",
        "    return print(self.get_files())\n",
        "\n",
        "  def get_files(self, sub_folder=''):\n",
        "    return [os.path.join(dp, f) for dp, dn, fn in os.walk(os.path.join(self.path, sub_folder)) for f in fn]\n",
        "\n",
        "  def show_dirs(self):\n",
        "    return print(self.get_dirs())\n",
        "\n",
        "  def get_dirs(self):\n",
        "    return [ name for name in os.listdir(self.path) if os.path.isdir(os.path.join(self.path, name)) ]\n",
        "\n",
        "  def unzip(self):\n",
        "    return os.system('find ' + self.path + ' -name \"*.zip\" | xargs -P 5 -I fileName sh -c \\'unzip -o -d \"$(dirname \"fileName\")\" \"fileName\"\\'')\n",
        "\n",
        "  def clean_folder(self, file_extension='.zip'):\n",
        "    for f1le in self.get_files():\n",
        "      if f1le.endswith(file_extension):\n",
        "        os.remove(f1le)\n",
        "\n",
        "  def reset_folder(self):\n",
        "    shutil.rmtree(self.path)"
      ],
      "execution_count": null,
      "outputs": []
    },
    {
      "cell_type": "code",
      "metadata": {
        "id": "9XWkqhXiWJ7A",
        "colab_type": "code",
        "colab": {}
      },
      "source": [
        "from sklearn.utils.class_weight import compute_class_weight\n",
        "from sklearn import model_selection\n",
        "\n",
        "class EnsembleImageClassifier:\n",
        "\n",
        "  METRICS = [\n",
        "    metrics.TruePositives(name='tp'),\n",
        "    metrics.FalsePositives(name='fp'),\n",
        "    metrics.TrueNegatives(name='tn'),\n",
        "    metrics.FalseNegatives(name='fn'), \n",
        "    metrics.BinaryAccuracy(name='accuracy'),\n",
        "    metrics.Precision(name='precision'),\n",
        "    metrics.Recall(name='recall'),\n",
        "    metrics.AUC(name='auc'),\n",
        "  ]\n",
        "\n",
        "  def __init__(self, base_folder, model_def, k_folds=None, batch_size=1024, workers=10, metrics=None, image_shape=(256, 256, 3), completion_callback=None, lr=None):\n",
        "    self.base_folder = base_folder\n",
        "    self.train_folder = os.path.join(base_folder, 'train')\n",
        "    self.test_folder = os.path.join(base_folder, 'test')\n",
        "    self.models_folder = os.path.join(base_folder, 'models')\n",
        "    self.batch_size = batch_size\n",
        "    self.metrics = metrics or EnsembleImageClassifier.METRICS\n",
        "    self.results = list()\n",
        "    self.image_shape = image_shape\n",
        "    self.completion_callback = completion_callback\n",
        "    self.workers = workers\n",
        "    self.models = self.get_models(base_folder, model_def, k_folds, lr)\n",
        "\n",
        "  def get_models(self, base_folder, model_def, k_folds, lr):\n",
        "    models = []\n",
        "    if os.path.isdir(self.models_folder) and glob.glob(self.models_folder + '/*.h5'):\n",
        "      models_path = glob.glob(self.models_folder + '/*.h5')\n",
        "      models = [load_model(model_path) for model_path in models_path]\n",
        "    else:\n",
        "      if isinstance(model_def, collections.Iterable):\n",
        "        if callable(model_def[0]):\n",
        "          models = [model_def_() for model_def_ in model_def]\n",
        "        else:\n",
        "          models = model_def\n",
        "      else:\n",
        "        if callable(model_def):\n",
        "          k_folds = k_folds or 1\n",
        "          models = [model_def() for i in range(k_folds)]\n",
        "        else:\n",
        "          models = [model_def]\n",
        "    if lr:\n",
        "      for model in models:\n",
        "        K.set_value(model.optimizer.learning_rate, lr) \n",
        "    return models\n",
        "\n",
        "\n",
        "  def fit(self, train_df, epochs, class_weight=None, validate=True, shuffle=True, callbacks=None):\n",
        "\n",
        "    train_datagen = ImageDataGenerator(rescale=1./255, rotation_range=40, width_shift_range=0.2, fill_mode='nearest', height_shift_range=0.2, zoom_range=0.2, horizontal_flip=True, vertical_flip=True)\n",
        "\n",
        "    if class_weight is None:\n",
        "      class_weight_array = compute_class_weight('balanced', np.unique(train_df['target']), train_df['target'])\n",
        "      class_weight = {i : class_weight_array[i] for i in range(len(class_weight_array))}\n",
        "      print('computed class weights ' + str(class_weight))\n",
        "\n",
        "    splits = self.split_data(train_df)\n",
        "\n",
        "    for i, (model, (train_df, test_df)) in enumerate(zip(self.models, splits)):\n",
        "      print(len(train_df))\n",
        "      fit_params = {\n",
        "          'steps_per_epoch': len(train_df)//self.batch_size,\n",
        "          'epochs': epochs,\n",
        "          'class_weight': class_weight,\n",
        "          'workers': self.workers\n",
        "      }\n",
        "      model_file_path = os.path.join(self.models_folder, str(i) + \".h5\")\n",
        "      fit_params['callbacks'] = [tf.keras.callbacks.ModelCheckpoint(model_file_path, verbose=1, save_freq='epoch')]\n",
        "      if callbacks:\n",
        "        fit_params['callbacks'].append(callbacks)\n",
        "        \n",
        "      if validate:\n",
        "        test_generator = train_datagen.flow_from_dataframe(test_df, \n",
        "                                                        x_col=\"image_id_ext\",\n",
        "                                                        y_col=\"target\",\n",
        "                                                        directory=self.base_folder + '/train/', \n",
        "                                                        target_size=self.image_shape[0:2], \n",
        "                                                        batch_size=self.batch_size,\n",
        "                                                        class_mode='raw',\n",
        "                                                        validate_filenames=False,\n",
        "                                                        shuffle=False)\n",
        "        fit_params['validation_data'] = test_generator,\n",
        "        fit_params['validation_steps'] = len(test_df)//self.batch_size\n",
        "\n",
        "      train_generator = train_datagen.flow_from_dataframe(train_df, \n",
        "                                                      x_col=\"image_id_ext\",\n",
        "                                                      y_col=\"target\",\n",
        "                                                      directory=self.base_folder + '/train/', \n",
        "                                                      target_size=self.image_shape[0:2], \n",
        "                                                      batch_size=self.batch_size,\n",
        "                                                      class_mode='raw',\n",
        "                                                      validate_filenames=False,)\n",
        "\n",
        "      history = model.fit(train_generator, **fit_params)\n",
        "      self.results.append({'model': model, 'history': history})\n",
        "      if self.completion_callback:\n",
        "        self.completion_callback({'model': model, 'history': history})\n",
        "      self.reset_mem()\n",
        "    return self.results\n",
        "\n",
        "  def split_data(self, train_df):\n",
        "    splits = []\n",
        "    if len(self.models) > 1:\n",
        "      sfk = StratifiedKFold(n_splits=len(self.models), shuffle=shuffle)\n",
        "      splits = [(train_df.iloc[train_index], train_df.iloc[test_index]) for train_index, test_index in sfk.split(train_df['image_id_ext'], train_df['target'])]\n",
        "    else:\n",
        "      x_train, x_test, y_train, y_test = train_test_split(train_df['image_id_ext'], train_df['target'], test_size=0.2, random_state=0, stratify=train_df['target'])\n",
        "      splits = [(pd.DataFrame({\"image_id_ext\": x_train, 'target': y_train}), pd.DataFrame({\"image_id_ext\": x_test, 'target': y_test}))]\n",
        "    return splits\n",
        "    \n",
        "  def reset_mem(self):\n",
        "    #process = psutil.Process(os.getpid())\n",
        "    #print(process.memory_info()[0])\n",
        "    K.clear_session()\n",
        "    print(gc.collect())\n",
        "    #print(process.memory_info()[0])\n",
        "\n",
        "\n",
        "  def predict(self, test_df, batch_size):\n",
        "    test_datagen = ImageDataGenerator(rescale=1./255)\n",
        "    test_generator = test_datagen.flow_from_dataframe(test_df, \n",
        "                                                      x_col=\"image_id_ext\",\n",
        "                                                      y_col=\"target\",\n",
        "                                                      directory=self.base_folder + '/test/', \n",
        "                                                      target_size=self.image_shape[0:2], \n",
        "                                                      batch_size=batch_size,\n",
        "                                                      class_mode='raw',\n",
        "                                                      validate_filenames=False,\n",
        "                                                      shuffle=False)\n",
        "    probs = np.zeros(len(test_df))\n",
        "    for model in self.models:\n",
        "        model_probs = model.predict_generator(test_generator, len(test_df)//batch_size, verbose=1)\n",
        "        probs = probs + model_probs.reshape(len(test_df))\n",
        "\n",
        "    return probs / len(self.models)\n",
        "\n"
      ],
      "execution_count": null,
      "outputs": []
    },
    {
      "cell_type": "code",
      "metadata": {
        "id": "BfPjxPTSKXzb",
        "colab_type": "code",
        "colab": {}
      },
      "source": [
        "# https://github.com/umbertogriffo/focal-loss-keras/blob/master/losses.py\n",
        "def binary_focal_loss(gamma=2., alpha=.25):\n",
        "    \"\"\"\n",
        "    Binary form of focal loss.\n",
        "      FL(p_t) = -alpha * (1 - p_t)**gamma * log(p_t)\n",
        "      where p = sigmoid(x), p_t = p or 1 - p depending on if the label is 1 or 0, respectively.\n",
        "    References:\n",
        "        https://arxiv.org/pdf/1708.02002.pdf\n",
        "    Usage:\n",
        "     model.compile(loss=[binary_focal_loss(alpha=.25, gamma=2)], metrics=[\"accuracy\"], optimizer=adam)\n",
        "    \"\"\"\n",
        "    def binary_focal_loss_fixed(y_true, y_pred):\n",
        "        \"\"\"\n",
        "        :param y_true: A tensor of the same shape as `y_pred`\n",
        "        :param y_pred:  A tensor resulting from a sigmoid\n",
        "        :return: Output tensor.\n",
        "        \"\"\"\n",
        "        pt_1 = tf.where(tf.equal(y_true, 1), y_pred, tf.ones_like(y_pred))\n",
        "        pt_0 = tf.where(tf.equal(y_true, 0), y_pred, tf.zeros_like(y_pred))\n",
        "\n",
        "        epsilon = tf.keras.backend.epsilon()\n",
        "        # clip to prevent NaN's and Inf's\n",
        "        pt_1 = tf.keras.backend.clip(pt_1, epsilon, 1. - epsilon)\n",
        "        pt_0 = tf.keras.backend.clip(pt_0, epsilon, 1. - epsilon)\n",
        "\n",
        "        return -tf.keras.backend.mean(alpha * tf.keras.backend.pow(1. - pt_1, gamma) * tf.keras.backend.log(pt_1)) \\\n",
        "               -tf.keras.backend.mean((1 - alpha) * tf.keras.backend.pow(pt_0, gamma) * tf.keras.backend.log(1. - pt_0))\n",
        "\n",
        "    return binary_focal_loss_fixed"
      ],
      "execution_count": null,
      "outputs": []
    },
    {
      "cell_type": "markdown",
      "metadata": {
        "id": "ORmcKDwd81NZ",
        "colab_type": "text"
      },
      "source": [
        "## Define Constants"
      ]
    },
    {
      "cell_type": "code",
      "metadata": {
        "id": "WkwKyDem9B0E",
        "colab_type": "code",
        "colab": {}
      },
      "source": [
        "EPOCHS=5\n",
        "DOWN_SAMPLE=False\n",
        "BATCH_SIZE=256\n",
        "SAMPLE_SIZE=BATCH_SIZE * 10"
      ],
      "execution_count": null,
      "outputs": []
    },
    {
      "cell_type": "markdown",
      "metadata": {
        "id": "pNwbSWFb3qUy",
        "colab_type": "text"
      },
      "source": [
        "## Setup the environment"
      ]
    },
    {
      "cell_type": "code",
      "metadata": {
        "id": "ujLk_T5F3u2y",
        "colab_type": "code",
        "colab": {
          "base_uri": "https://localhost:8080/",
          "height": 34
        },
        "outputId": "b96b63b0-2dce-4097-8ffb-a1ad89e28ebc"
      },
      "source": [
        "gdrive_mount()\n",
        "tf_init()"
      ],
      "execution_count": null,
      "outputs": [
        {
          "output_type": "stream",
          "text": [
            "Mounted at /content/gdrive\n"
          ],
          "name": "stdout"
        }
      ]
    },
    {
      "cell_type": "markdown",
      "metadata": {
        "id": "s5Kyiz8_u_pj",
        "colab_type": "text"
      },
      "source": [
        "## Download data"
      ]
    },
    {
      "cell_type": "code",
      "metadata": {
        "id": "Jw6ymUJTwAD9",
        "colab_type": "code",
        "colab": {}
      },
      "source": [
        "kaggle = Kaggle(dataset_name='shonenkov/melanoma-merged-external-data-512x512-jpeg')"
      ],
      "execution_count": null,
      "outputs": []
    },
    {
      "cell_type": "code",
      "metadata": {
        "id": "7VbQMPrmx_RB",
        "colab_type": "code",
        "colab": {
          "base_uri": "https://localhost:8080/",
          "height": 34
        },
        "outputId": "bb782cf7-8585-48e6-b8aa-36318f0c7df5"
      },
      "source": [
        "kaggle.download()\n",
        "kaggle.unzip()\n",
        "kaggle.clean_folder()"
      ],
      "execution_count": null,
      "outputs": [
        {
          "output_type": "stream",
          "text": [
            "kaggle datasets download -d shonenkov/melanoma-merged-external-data-512x512-jpeg -p /tmp/shonenkov/melanoma-merged-external-data-512x512-jpeg\n"
          ],
          "name": "stdout"
        }
      ]
    },
    {
      "cell_type": "code",
      "metadata": {
        "id": "clGFPCJxmD6x",
        "colab_type": "code",
        "colab": {
          "base_uri": "https://localhost:8080/",
          "height": 34
        },
        "outputId": "3600fcdd-9b83-47d0-e8f0-20ca918f891f"
      },
      "source": [
        "kaggle.get_dirs()"
      ],
      "execution_count": null,
      "outputs": [
        {
          "output_type": "execute_result",
          "data": {
            "text/plain": [
              "['512x512-dataset-melanoma', 'train', 'test', 'models', '512x512-test']"
            ]
          },
          "metadata": {
            "tags": []
          },
          "execution_count": 13
        }
      ]
    },
    {
      "cell_type": "code",
      "metadata": {
        "id": "Pok1uDm39akj",
        "colab_type": "code",
        "colab": {}
      },
      "source": [
        "!mkdir '/tmp/shonenkov/melanoma-merged-external-data-512x512-jpeg/train'\n",
        "!mkdir '/tmp/shonenkov/melanoma-merged-external-data-512x512-jpeg/test'"
      ],
      "execution_count": null,
      "outputs": []
    },
    {
      "cell_type": "code",
      "metadata": {
        "id": "cVFykZ5eBMb-",
        "colab_type": "code",
        "colab": {}
      },
      "source": [
        "!find /tmp/shonenkov/melanoma-merged-external-data-512x512-jpeg/512x512-dataset-melanoma/512x512-dataset-melanoma/ -type f -print0 | xargs -0 mv -t /tmp/shonenkov/melanoma-merged-external-data-512x512-jpeg/train/"
      ],
      "execution_count": null,
      "outputs": []
    },
    {
      "cell_type": "code",
      "metadata": {
        "id": "tn1Q9p8e9WZI",
        "colab_type": "code",
        "colab": {}
      },
      "source": [
        "!mv /tmp/shonenkov/melanoma-merged-external-data-512x512-jpeg/512x512-test/512x512-test/* /tmp/shonenkov/melanoma-merged-external-data-512x512-jpeg/test"
      ],
      "execution_count": null,
      "outputs": []
    },
    {
      "cell_type": "markdown",
      "metadata": {
        "id": "HWbJIl8L6w2d",
        "colab_type": "text"
      },
      "source": [
        "Point the \"models\" dir to drive, where we want to keep saving the models"
      ]
    },
    {
      "cell_type": "code",
      "metadata": {
        "id": "uN2g_prY6Z5q",
        "colab_type": "code",
        "colab": {}
      },
      "source": [
        "!ln -s \"/content/gdrive/My Drive/Colab Notebooks/.kaggle/siim-isic-melanoma-classification/models\" /tmp/shonenkov/melanoma-merged-external-data-512x512-jpeg/models"
      ],
      "execution_count": null,
      "outputs": []
    },
    {
      "cell_type": "code",
      "metadata": {
        "id": "3jHOzUnH_jRL",
        "colab_type": "code",
        "colab": {}
      },
      "source": [
        "train_df = pd.read_csv(os.path.join(kaggle.path, 'marking.csv'))\n",
        "train_df['image_id_ext'] = train_df['image_id'] + '.jpg'"
      ],
      "execution_count": null,
      "outputs": []
    },
    {
      "cell_type": "code",
      "metadata": {
        "id": "4u1gGpR1f3oi",
        "colab_type": "code",
        "colab": {
          "base_uri": "https://localhost:8080/",
          "height": 34
        },
        "outputId": "a8dcf5b2-106e-4b0c-d452-862e990b4284"
      },
      "source": [
        "original_train_df = train_df\n",
        "train_df.shape, train_df[train_df['target'] == 1].shape, train_df[train_df['target'] == 0].shape "
      ],
      "execution_count": null,
      "outputs": [
        {
          "output_type": "execute_result",
          "data": {
            "text/plain": [
              "((60487, 8), (5479, 8), (55008, 8))"
            ]
          },
          "metadata": {
            "tags": []
          },
          "execution_count": 16
        }
      ]
    },
    {
      "cell_type": "markdown",
      "metadata": {
        "id": "W0fF4v1A7Upg",
        "colab_type": "text"
      },
      "source": [
        "down-sample"
      ]
    },
    {
      "cell_type": "code",
      "metadata": {
        "id": "1Gp1Ql2t7W66",
        "colab_type": "code",
        "colab": {}
      },
      "source": [
        "if DOWN_SAMPLE:\n",
        "  print('Down sampling negative category')\n",
        "  train_df = pd.concat([original_train_df[original_train_df['target'] == 1], original_train_df[original_train_df['target'] == 0].sample(len(original_train_df[original_train_df['target'] == 1]))])"
      ],
      "execution_count": null,
      "outputs": []
    },
    {
      "cell_type": "markdown",
      "metadata": {
        "id": "CgjSqnIW7OxN",
        "colab_type": "text"
      },
      "source": [
        "Take sample"
      ]
    },
    {
      "cell_type": "code",
      "metadata": {
        "id": "RlIynsX_7Q2U",
        "colab_type": "code",
        "colab": {
          "base_uri": "https://localhost:8080/",
          "height": 34
        },
        "outputId": "dcf06e13-3f11-4a8a-b60d-313c5253c159"
      },
      "source": [
        "if SAMPLE_SIZE:\n",
        "  print('Taking a sample of size ' + str(SAMPLE_SIZE))\n",
        "  train_df = train_df.sample(SAMPLE_SIZE)\n",
        "  len(train_df[train_df['target'] == 1])"
      ],
      "execution_count": null,
      "outputs": [
        {
          "output_type": "stream",
          "text": [
            "Taking a sample of size 2560\n"
          ],
          "name": "stdout"
        }
      ]
    },
    {
      "cell_type": "markdown",
      "metadata": {
        "id": "yWEjqtWC6hUm",
        "colab_type": "text"
      },
      "source": [
        "## Define models"
      ]
    },
    {
      "cell_type": "code",
      "metadata": {
        "id": "L5R3gCSRkWB5",
        "colab_type": "code",
        "colab": {}
      },
      "source": [
        "def model_def1():\n",
        "  print('creating model model_def1')\n",
        "  optim = optimizers.Adam(lr=1e-3)\n",
        "\n",
        "  conv_base = efn.EfficientNetB6(weights='imagenet', include_top=False, input_shape=(256, 256, 3), pooling='avg')\n",
        "  conv_base.trainable = False\n",
        "  \n",
        "  for layer in conv_base.layers:\n",
        "    layer.trainable = False\n",
        "  model = models.Sequential()\n",
        "  model.add(conv_base)\n",
        "  model.add(layers.Flatten())\n",
        "  model.add(layers.Dropout(0.2))\n",
        "  model.add(layers.Dense(1, activation='sigmoid'))\n",
        "  model.compile(loss = tf.keras.losses.BinaryCrossentropy(label_smoothing = 0.05), optimizer=optim, metrics=EnsembleImageClassifier.METRICS)\n",
        "  return model"
      ],
      "execution_count": null,
      "outputs": []
    },
    {
      "cell_type": "code",
      "metadata": {
        "id": "V7jgaECQ-yye",
        "colab_type": "code",
        "colab": {}
      },
      "source": [
        "def model_def2():\n",
        "  print('creating model model_def2')\n",
        "  optim = optimizers.Adam(lr=1e-3)\n",
        "\n",
        "  conv_base = VGG16(weights='imagenet', include_top=False, input_shape=(256, 256, 3))\n",
        "  conv_base.trainable = False\n",
        "  \n",
        "  for layer in conv_base.layers:\n",
        "    layer.trainable = False\n",
        "  model = models.Sequential()\n",
        "  model.add(conv_base)\n",
        "  model.add(layers.Flatten())\n",
        "  model.add(layers.Dropout(0.2))\n",
        "  model.add(layers.Dense(1, activation='sigmoid'))\n",
        "  model.compile(loss='binary_crossentropy', optimizer=optim, metrics=EnsembleImageClassifier.METRICS)\n",
        "  return model"
      ],
      "execution_count": null,
      "outputs": []
    },
    {
      "cell_type": "code",
      "metadata": {
        "id": "IV3QntCR0EnM",
        "colab_type": "code",
        "colab": {}
      },
      "source": [
        "def model_def3():\n",
        "  print('creating model model_def3')\n",
        "  optim = optimizers.Adam(lr=1e-3)\n",
        "\n",
        "  conv_base = ResNet152V2(weights='imagenet', include_top=False, input_shape=(256, 256, 3))\n",
        "  conv_base.trainable = False\n",
        "  \n",
        "  for layer in conv_base.layers:\n",
        "    layer.trainable = False\n",
        "  model = models.Sequential()\n",
        "  model.add(conv_base)\n",
        "  model.add(layers.Flatten())\n",
        "  model.add(layers.Dropout(0.2))\n",
        "  model.add(layers.Dense(1, activation='sigmoid'))\n",
        "  model.compile(loss='binary_crossentropy', optimizer=optim, metrics=EnsembleImageClassifier.METRICS)\n",
        "  return model"
      ],
      "execution_count": null,
      "outputs": []
    },
    {
      "cell_type": "markdown",
      "metadata": {
        "id": "NvZiQXURDDJ4",
        "colab_type": "text"
      },
      "source": [
        "# Train the models"
      ]
    },
    {
      "cell_type": "code",
      "metadata": {
        "id": "v2ruqGfpDFDQ",
        "colab_type": "code",
        "colab": {
          "base_uri": "https://localhost:8080/",
          "height": 34
        },
        "outputId": "f4e089e9-30d3-4da3-b3b4-43f5a63eecf0"
      },
      "source": [
        "classifier = EnsembleImageClassifier(kaggle.path, model_def1, batch_size=BATCH_SIZE, lr=0.01)"
      ],
      "execution_count": null,
      "outputs": [
        {
          "output_type": "stream",
          "text": [
            "creating model model_def1\n"
          ],
          "name": "stdout"
        }
      ]
    },
    {
      "cell_type": "code",
      "metadata": {
        "id": "ovmfFy7J7cbV",
        "colab_type": "code",
        "colab": {
          "base_uri": "https://localhost:8080/",
          "height": 34
        },
        "outputId": "04343fdb-21b4-406d-dfa4-3db4e7b50a86"
      },
      "source": [
        "gc.collect()"
      ],
      "execution_count": null,
      "outputs": [
        {
          "output_type": "execute_result",
          "data": {
            "text/plain": [
              "339"
            ]
          },
          "metadata": {
            "tags": []
          },
          "execution_count": 55
        }
      ]
    },
    {
      "cell_type": "code",
      "metadata": {
        "id": "ypTouhHzDNUm",
        "colab_type": "code",
        "colab": {
          "base_uri": "https://localhost:8080/",
          "height": 102
        },
        "outputId": "e15aa5d1-2571-4c43-a017-ea5578013038"
      },
      "source": [
        "result = classifier.fit(train_df, EPOCHS, validate=True, shuffle=False, class_weight={0: 1, 1: 1})"
      ],
      "execution_count": null,
      "outputs": [
        {
          "output_type": "stream",
          "text": [
            "48389\n",
            "Found 12098 non-validated image filenames.\n",
            "Found 48389 non-validated image filenames.\n",
            "Epoch 1/5\n",
            "182/189 [===========================>..] - ETA: 29s - loss: 0.3068 - tp: 766.0000 - fp: 597.0000 - tn: 41559.0000 - fn: 3419.0000 - accuracy: 0.9133 - precision: 0.5620 - recall: 0.1830 - auc: 0.8091"
          ],
          "name": "stdout"
        }
      ]
    },
    {
      "cell_type": "markdown",
      "metadata": {
        "id": "KnXLh8R5E-l4",
        "colab_type": "text"
      },
      "source": [
        "# Test"
      ]
    },
    {
      "cell_type": "code",
      "metadata": {
        "id": "3e1gbrnNE_gJ",
        "colab_type": "code",
        "colab": {}
      },
      "source": [
        "test_images = kaggle.get_files('test')"
      ],
      "execution_count": null,
      "outputs": []
    },
    {
      "cell_type": "code",
      "metadata": {
        "id": "fxQwqntHFTrB",
        "colab_type": "code",
        "colab": {}
      },
      "source": [
        "test_image_ext = [os.path.split(test_image)[1] for test_image in test_images]"
      ],
      "execution_count": null,
      "outputs": []
    },
    {
      "cell_type": "code",
      "metadata": {
        "id": "kuijMCW0Ft1K",
        "colab_type": "code",
        "colab": {}
      },
      "source": [
        "test_df = pd.DataFrame({'image_id_ext': test_image_ext})"
      ],
      "execution_count": null,
      "outputs": []
    },
    {
      "cell_type": "code",
      "metadata": {
        "id": "2DZUl6dxGbWQ",
        "colab_type": "code",
        "colab": {
          "base_uri": "https://localhost:8080/",
          "height": 34
        },
        "outputId": "607d83a4-6390-487d-9228-d5c9a2f2bebe"
      },
      "source": [
        "len(test_df)"
      ],
      "execution_count": null,
      "outputs": [
        {
          "output_type": "execute_result",
          "data": {
            "text/plain": [
              "10982"
            ]
          },
          "metadata": {
            "tags": []
          },
          "execution_count": 27
        }
      ]
    },
    {
      "cell_type": "code",
      "metadata": {
        "id": "Yy-Chjf-HD2_",
        "colab_type": "code",
        "colab": {}
      },
      "source": [
        "test_df['target'] = 0"
      ],
      "execution_count": null,
      "outputs": []
    },
    {
      "cell_type": "code",
      "metadata": {
        "id": "Pcfvy5WiHFtv",
        "colab_type": "code",
        "colab": {
          "base_uri": "https://localhost:8080/",
          "height": 204
        },
        "outputId": "deac90fa-bc5d-41d9-96bc-fd9f7131c803"
      },
      "source": [
        "test_df.head()"
      ],
      "execution_count": null,
      "outputs": [
        {
          "output_type": "execute_result",
          "data": {
            "text/html": [
              "<div>\n",
              "<style scoped>\n",
              "    .dataframe tbody tr th:only-of-type {\n",
              "        vertical-align: middle;\n",
              "    }\n",
              "\n",
              "    .dataframe tbody tr th {\n",
              "        vertical-align: top;\n",
              "    }\n",
              "\n",
              "    .dataframe thead th {\n",
              "        text-align: right;\n",
              "    }\n",
              "</style>\n",
              "<table border=\"1\" class=\"dataframe\">\n",
              "  <thead>\n",
              "    <tr style=\"text-align: right;\">\n",
              "      <th></th>\n",
              "      <th>image_id_ext</th>\n",
              "      <th>target</th>\n",
              "    </tr>\n",
              "  </thead>\n",
              "  <tbody>\n",
              "    <tr>\n",
              "      <th>0</th>\n",
              "      <td>ISIC_3798140.jpg</td>\n",
              "      <td>0</td>\n",
              "    </tr>\n",
              "    <tr>\n",
              "      <th>1</th>\n",
              "      <td>ISIC_9685762.jpg</td>\n",
              "      <td>0</td>\n",
              "    </tr>\n",
              "    <tr>\n",
              "      <th>2</th>\n",
              "      <td>ISIC_8760303.jpg</td>\n",
              "      <td>0</td>\n",
              "    </tr>\n",
              "    <tr>\n",
              "      <th>3</th>\n",
              "      <td>ISIC_3612582.jpg</td>\n",
              "      <td>0</td>\n",
              "    </tr>\n",
              "    <tr>\n",
              "      <th>4</th>\n",
              "      <td>ISIC_8370736.jpg</td>\n",
              "      <td>0</td>\n",
              "    </tr>\n",
              "  </tbody>\n",
              "</table>\n",
              "</div>"
            ],
            "text/plain": [
              "       image_id_ext  target\n",
              "0  ISIC_3798140.jpg       0\n",
              "1  ISIC_9685762.jpg       0\n",
              "2  ISIC_8760303.jpg       0\n",
              "3  ISIC_3612582.jpg       0\n",
              "4  ISIC_8370736.jpg       0"
            ]
          },
          "metadata": {
            "tags": []
          },
          "execution_count": 29
        }
      ]
    },
    {
      "cell_type": "code",
      "metadata": {
        "id": "oR31x_5juWSY",
        "colab_type": "code",
        "colab": {}
      },
      "source": [
        "# probs = classifier.test(test_df, 38)"
      ],
      "execution_count": null,
      "outputs": []
    },
    {
      "cell_type": "code",
      "metadata": {
        "id": "uc-uxzZX1iAF",
        "colab_type": "code",
        "colab": {}
      },
      "source": [
        "probs = np.zeros(len(test_df))"
      ],
      "execution_count": null,
      "outputs": []
    },
    {
      "cell_type": "code",
      "metadata": {
        "id": "WZniVacvyEUB",
        "colab_type": "code",
        "colab": {}
      },
      "source": [
        "ttl = 4"
      ],
      "execution_count": null,
      "outputs": []
    },
    {
      "cell_type": "code",
      "metadata": {
        "id": "1rKFuwdDwknD",
        "colab_type": "code",
        "colab": {
          "base_uri": "https://localhost:8080/",
          "height": 85
        },
        "outputId": "921abf03-98d1-4127-b044-6f3e7bc4d330"
      },
      "source": [
        "for ttl in range(ttl):\n",
        "  test_datagen = ImageDataGenerator(rescale=1./255, rotation_range=40, width_shift_range=0.2, fill_mode='nearest', height_shift_range=0.2, zoom_range=0.2, horizontal_flip=True, vertical_flip=True)\n",
        "  test_generator = test_datagen.flow_from_dataframe(test_df, \n",
        "                                                    x_col=\"image_id_ext\",\n",
        "                                                    y_col=\"target\",\n",
        "                                                    directory=classifier.base_folder + '/test/', \n",
        "                                                    target_size=classifier.image_shape[0:2], \n",
        "                                                    batch_size=38,\n",
        "                                                    class_mode='raw',\n",
        "                                                    validate_filenames=False,\n",
        "                                                    shuffle=False)\n",
        "\n",
        "  for model in classifier.models:\n",
        "    model_probs = model.predict(test_generator, len(test_df)//38, verbose=1, workers=10)\n",
        "    probs = probs + model_probs.reshape(len(test_df))\n",
        "\n",
        "  probs = probs / len(classifier.models)"
      ],
      "execution_count": null,
      "outputs": [
        {
          "output_type": "stream",
          "text": [
            "Found 10982 non-validated image filenames.\n",
            "289/289 [==============================] - 182s 629ms/step\n",
            "Found 10982 non-validated image filenames.\n",
            "289/289 [==============================] - 183s 632ms/step\n"
          ],
          "name": "stdout"
        }
      ]
    },
    {
      "cell_type": "code",
      "metadata": {
        "id": "0VmJGSf29rUN",
        "colab_type": "code",
        "colab": {
          "base_uri": "https://localhost:8080/",
          "height": 34
        },
        "outputId": "2d3cefb2-b49e-4019-83a6-4c32b3b0166a"
      },
      "source": [
        "len(probs[probs/2 > 0.5])"
      ],
      "execution_count": null,
      "outputs": [
        {
          "output_type": "execute_result",
          "data": {
            "text/plain": [
              "43"
            ]
          },
          "metadata": {
            "tags": []
          },
          "execution_count": 49
        }
      ]
    },
    {
      "cell_type": "code",
      "metadata": {
        "id": "Xyj38Wp8XEtH",
        "colab_type": "code",
        "colab": {}
      },
      "source": [
        "test_df['target'] = probs / 2"
      ],
      "execution_count": null,
      "outputs": []
    },
    {
      "cell_type": "code",
      "metadata": {
        "id": "5D_xK9o9XOS7",
        "colab_type": "code",
        "colab": {}
      },
      "source": [
        "test_df['image_name'] = [sds[0] for sds in test_df['image_id_ext'].str.split(\".\")]"
      ],
      "execution_count": null,
      "outputs": []
    },
    {
      "cell_type": "code",
      "metadata": {
        "id": "Q1uwOL5wIsye",
        "colab_type": "code",
        "colab": {}
      },
      "source": [
        "test_df[['image_name', 'target']].to_csv('/content/gdrive/My Drive/Colab Notebooks/.kaggle/siim-isic-melanoma-classification/revisit_final_ensemble_result.csv', index=False)"
      ],
      "execution_count": null,
      "outputs": []
    },
    {
      "cell_type": "code",
      "metadata": {
        "id": "Ura6ddo-LbEo",
        "colab_type": "code",
        "colab": {
          "base_uri": "https://localhost:8080/",
          "height": 282
        },
        "outputId": "6cf2e357-d91a-472d-98b0-9e756924f2e0"
      },
      "source": [
        "test_df['target'].plot.hist(10)"
      ],
      "execution_count": null,
      "outputs": [
        {
          "output_type": "execute_result",
          "data": {
            "text/plain": [
              "<matplotlib.axes._subplots.AxesSubplot at 0x7f2342de4a58>"
            ]
          },
          "metadata": {
            "tags": []
          },
          "execution_count": 53
        },
        {
          "output_type": "display_data",
          "data": {
            "image/png": "[encoded data removed]",
            "text/plain": [
              "<Figure size 432x288 with 1 Axes>"
            ]
          },
          "metadata": {
            "tags": [],
            "needs_background": "light"
          }
        }
      ]
    },
    {
      "cell_type": "code",
      "metadata": {
        "id": "djlvNPvKX3Yj",
        "colab_type": "code",
        "colab": {
          "base_uri": "https://localhost:8080/",
          "height": 17
        },
        "outputId": "2599009c-e7da-4e16-c2c0-27c0210ba02c"
      },
      "source": [
        "from google.colab import files\n",
        "files.download('/content/gdrive/My Drive/Colab Notebooks/.kaggle/siim-isic-melanoma-classification/revisit_final_ensemble_result.csv')"
      ],
      "execution_count": null,
      "outputs": [
        {
          "output_type": "display_data",
          "data": {
            "application/javascript": [
              "\n",
              "    async function download(id, filename, size) {\n",
              "      if (!google.colab.kernel.accessAllowed) {\n",
              "        return;\n",
              "      }\n",
              "      const div = document.createElement('div');\n",
              "      const label = document.createElement('label');\n",
              "      label.textContent = `Downloading \"${filename}\": `;\n",
              "      div.appendChild(label);\n",
              "      const progress = document.createElement('progress');\n",
              "      progress.max = size;\n",
              "      div.appendChild(progress);\n",
              "      document.body.appendChild(div);\n",
              "\n",
              "      const buffers = [];\n",
              "      let downloaded = 0;\n",
              "\n",
              "      const channel = await google.colab.kernel.comms.open(id);\n",
              "      // Send a message to notify the kernel that we're ready.\n",
              "      channel.send({})\n",
              "\n",
              "      for await (const message of channel.messages) {\n",
              "        // Send a message to notify the kernel that we're ready.\n",
              "        channel.send({})\n",
              "        if (message.buffers) {\n",
              "          for (const buffer of message.buffers) {\n",
              "            buffers.push(buffer);\n",
              "            downloaded += buffer.byteLength;\n",
              "            progress.value = downloaded;\n",
              "          }\n",
              "        }\n",
              "      }\n",
              "      const blob = new Blob(buffers, {type: 'application/binary'});\n",
              "      const a = document.createElement('a');\n",
              "      a.href = window.URL.createObjectURL(blob);\n",
              "      a.download = filename;\n",
              "      div.appendChild(a);\n",
              "      a.click();\n",
              "      div.remove();\n",
              "    }\n",
              "  "
            ],
            "text/plain": [
              "<IPython.core.display.Javascript object>"
            ]
          },
          "metadata": {
            "tags": []
          }
        },
        {
          "output_type": "display_data",
          "data": {
            "application/javascript": [
              "download(\"download_93b303d5-0622-4915-9134-b74ff9bbe011\", \"revisit_final_ensemble_result.csv\", 365014)"
            ],
            "text/plain": [
              "<IPython.core.display.Javascript object>"
            ]
          },
          "metadata": {
            "tags": []
          }
        }
      ]
    },
    {
      "cell_type": "code",
      "metadata": {
        "id": "iNC3NfUzelYW",
        "colab_type": "code",
        "colab": {}
      },
      "source": [
        ""
      ],
      "execution_count": null,
      "outputs": []
    }
  ]
}