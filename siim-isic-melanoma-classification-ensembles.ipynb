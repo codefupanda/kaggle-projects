{
  "nbformat": 4,
  "nbformat_minor": 0,
  "metadata": {
    "colab": {
      "name": "Melonoma",
      "provenance": [],
      "collapsed_sections": [],
      "authorship_tag": "ABX9TyNNeM2HGWW1VUjVNIl6/pXb",
      "include_colab_link": true
    },
    "kernelspec": {
      "name": "python3",
      "display_name": "Python 3"
    },
    "accelerator": "GPU"
  },
  "cells": [
    {
      "cell_type": "markdown",
      "metadata": {
        "id": "view-in-github",
        "colab_type": "text"
      },
      "source": [
        "<a href=\"https://colab.research.google.com/github/codefupanda/kaggle-projects/blob/master/siim-isic-melanoma-classification-ensembles.ipynb\" target=\"_parent\"><img src=\"https://colab.research.google.com/assets/colab-badge.svg\" alt=\"Open In Colab\"/></a>"
      ]
    },
    {
      "cell_type": "markdown",
      "metadata": {
        "id": "z73Uz0QO3PnS",
        "colab_type": "text"
      },
      "source": [
        "# Init"
      ]
    },
    {
      "cell_type": "code",
      "metadata": {
        "id": "EVFN4PJKXM-1",
        "colab_type": "code",
        "colab": {}
      },
      "source": [
        "#!pip uninstall -y tensorflow tensorflow-gpu"
      ],
      "execution_count": null,
      "outputs": []
    },
    {
      "cell_type": "code",
      "metadata": {
        "id": "aQ5nTkysXO6X",
        "colab_type": "code",
        "colab": {}
      },
      "source": [
        "#!pip install -y tensorflow-gpu"
      ],
      "execution_count": null,
      "outputs": []
    },
    {
      "cell_type": "code",
      "metadata": {
        "id": "WleRYWAtCAoq",
        "colab_type": "code",
        "colab": {
          "base_uri": "https://localhost:8080/",
          "height": 357
        },
        "outputId": "0a03e32d-1628-4f70-81ce-69642bc5cbd6"
      },
      "source": [
        "pip install -U efficientnet"
      ],
      "execution_count": 1,
      "outputs": [
        {
          "output_type": "stream",
          "text": [
            "Collecting efficientnet\n",
            "  Downloading https://files.pythonhosted.org/packages/28/91/67848a143b54c331605bfba5fd31cf4e9db13d2e429d103fe807acc3bcf4/efficientnet-1.1.0-py3-none-any.whl\n",
            "Requirement already satisfied, skipping upgrade: scikit-image in /usr/local/lib/python3.6/dist-packages (from efficientnet) (0.16.2)\n",
            "Requirement already satisfied, skipping upgrade: keras-applications<=1.0.8,>=1.0.7 in /usr/local/lib/python3.6/dist-packages (from efficientnet) (1.0.8)\n",
            "Requirement already satisfied, skipping upgrade: scipy>=0.19.0 in /usr/local/lib/python3.6/dist-packages (from scikit-image->efficientnet) (1.4.1)\n",
            "Requirement already satisfied, skipping upgrade: pillow>=4.3.0 in /usr/local/lib/python3.6/dist-packages (from scikit-image->efficientnet) (7.0.0)\n",
            "Requirement already satisfied, skipping upgrade: networkx>=2.0 in /usr/local/lib/python3.6/dist-packages (from scikit-image->efficientnet) (2.4)\n",
            "Requirement already satisfied, skipping upgrade: imageio>=2.3.0 in /usr/local/lib/python3.6/dist-packages (from scikit-image->efficientnet) (2.4.1)\n",
            "Requirement already satisfied, skipping upgrade: PyWavelets>=0.4.0 in /usr/local/lib/python3.6/dist-packages (from scikit-image->efficientnet) (1.1.1)\n",
            "Requirement already satisfied, skipping upgrade: matplotlib!=3.0.0,>=2.0.0 in /usr/local/lib/python3.6/dist-packages (from scikit-image->efficientnet) (3.2.1)\n",
            "Requirement already satisfied, skipping upgrade: h5py in /usr/local/lib/python3.6/dist-packages (from keras-applications<=1.0.8,>=1.0.7->efficientnet) (2.10.0)\n",
            "Requirement already satisfied, skipping upgrade: numpy>=1.9.1 in /usr/local/lib/python3.6/dist-packages (from keras-applications<=1.0.8,>=1.0.7->efficientnet) (1.18.5)\n",
            "Requirement already satisfied, skipping upgrade: decorator>=4.3.0 in /usr/local/lib/python3.6/dist-packages (from networkx>=2.0->scikit-image->efficientnet) (4.4.2)\n",
            "Requirement already satisfied, skipping upgrade: kiwisolver>=1.0.1 in /usr/local/lib/python3.6/dist-packages (from matplotlib!=3.0.0,>=2.0.0->scikit-image->efficientnet) (1.2.0)\n",
            "Requirement already satisfied, skipping upgrade: pyparsing!=2.0.4,!=2.1.2,!=2.1.6,>=2.0.1 in /usr/local/lib/python3.6/dist-packages (from matplotlib!=3.0.0,>=2.0.0->scikit-image->efficientnet) (2.4.7)\n",
            "Requirement already satisfied, skipping upgrade: cycler>=0.10 in /usr/local/lib/python3.6/dist-packages (from matplotlib!=3.0.0,>=2.0.0->scikit-image->efficientnet) (0.10.0)\n",
            "Requirement already satisfied, skipping upgrade: python-dateutil>=2.1 in /usr/local/lib/python3.6/dist-packages (from matplotlib!=3.0.0,>=2.0.0->scikit-image->efficientnet) (2.8.1)\n",
            "Requirement already satisfied, skipping upgrade: six in /usr/local/lib/python3.6/dist-packages (from h5py->keras-applications<=1.0.8,>=1.0.7->efficientnet) (1.12.0)\n",
            "Installing collected packages: efficientnet\n",
            "Successfully installed efficientnet-1.1.0\n"
          ],
          "name": "stdout"
        }
      ]
    },
    {
      "cell_type": "markdown",
      "metadata": {
        "id": "NtBUelt8u5iu",
        "colab_type": "text"
      },
      "source": [
        "## Imports"
      ]
    },
    {
      "cell_type": "code",
      "metadata": {
        "id": "WewkcQAvzNt5",
        "colab_type": "code",
        "colab": {}
      },
      "source": [
        "# The basics\n",
        "import numpy as np\n",
        "import pandas as pd\n",
        "\n",
        "# Some plotting\n",
        "import plotly.graph_objects as go\n",
        "import plotly.express as px\n",
        "\n",
        "#sklear\n",
        "import sklearn\n",
        "from sklearn import model_selection\n",
        "from sklearn.utils.class_weight import compute_class_weight\n",
        "\n",
        "## Keras\n",
        "import tensorflow as tf\n",
        "from tensorflow.keras import metrics\n",
        "from tensorflow.keras import models\n",
        "from tensorflow.keras import layers\n",
        "from tensorflow.keras import optimizers\n",
        "from tensorflow.keras import regularizers\n",
        "from tensorflow.keras.preprocessing.image import ImageDataGenerator\n",
        "from tensorflow.keras.utils import to_categorical\n",
        "from tensorflow.keras.applications import VGG16\n",
        "from tensorflow.keras.applications import ResNet152V2\n",
        "\n",
        "# efficientnet\n",
        "import efficientnet.tfkeras as efn \n",
        "\n",
        "# Etc\n",
        "import os\n",
        "import shutil\n",
        "import collections"
      ],
      "execution_count": 2,
      "outputs": []
    },
    {
      "cell_type": "markdown",
      "metadata": {
        "id": "T7gvvw-H3nQR",
        "colab_type": "text"
      },
      "source": [
        "## Utils"
      ]
    },
    {
      "cell_type": "code",
      "metadata": {
        "id": "3eqKdWKH3Gyd",
        "colab_type": "code",
        "colab": {}
      },
      "source": [
        "def gdrive_mount():\n",
        "  from google.colab import drive\n",
        "  drive.mount('/content/gdrive')"
      ],
      "execution_count": 3,
      "outputs": []
    },
    {
      "cell_type": "code",
      "metadata": {
        "id": "xxEKUa2mXjh3",
        "colab_type": "code",
        "colab": {}
      },
      "source": [
        "def is_gpu():\n",
        "  device_name = tf.test.gpu_device_name()\n",
        "  if device_name != '/device:GPU:0':\n",
        "    return False\n",
        "  print('Found GPU at: {}'.format(device_name))\n",
        "  return True"
      ],
      "execution_count": 4,
      "outputs": []
    },
    {
      "cell_type": "code",
      "metadata": {
        "id": "1NWO0iJR3Z3d",
        "colab_type": "code",
        "colab": {}
      },
      "source": [
        "class Kaggle:\n",
        "\n",
        "  def __init__(self, competition_name=None, dataset_name=None, kaggle_config_dir='/content/gdrive/My Drive/Colab Notebooks/.kaggle', base_folder='/tmp'):\n",
        "    if competition_name:\n",
        "      self.name = competition_name\n",
        "      self.competition = True\n",
        "    if dataset_name:\n",
        "      self.name = dataset_name\n",
        "      self.dataset = True \n",
        "    self.kaggle_config_dir = kaggle_config_dir\n",
        "    self.base_folder = base_folder\n",
        "    self.path = os.path.join(self.base_folder, self.name)\n",
        "    os.environ['KAGGLE_CONFIG_DIR'] = kaggle_config_dir\n",
        "\n",
        "  def download(self):\n",
        "    if self.dataset:\n",
        "      return os.system('kaggle datasets download -d ' + self.name + ' -p ' + self.path)\n",
        "    return os.system('kaggle competitions download -c ' + self.name + ' -p ' + self.path)\n",
        "\n",
        "  def download_file(self, file_name, sub_folder=''):\n",
        "    if self.dataset:\n",
        "      return os.system('kaggle datasets download -d ' + self.name + ' -p ' + os.path.join(self.path, sub_folder) + ' -f ' + file_name)\n",
        "    return os.system('kaggle competitions download -c ' + self.name + ' -p ' + os.path.join(self.path, sub_folder) + ' -f ' + file_name)\n",
        "\n",
        "  def show_files(self):\n",
        "    return print(self.get_files())\n",
        "\n",
        "  def get_files(self, sub_folder=''):\n",
        "    return [os.path.join(dp, f) for dp, dn, fn in os.walk(os.path.join(self.path, sub_folder)) for f in fn]\n",
        "\n",
        "  def show_dirs(self):\n",
        "    return print(self.get_dirs())\n",
        "\n",
        "  def get_dirs(self):\n",
        "    return [ name for name in os.listdir(self.path) if os.path.isdir(os.path.join(self.path, name)) ]\n",
        "\n",
        "  def unzip(self):\n",
        "    return os.system('find ' + self.path + ' -name \"*.zip\" | xargs -P 5 -I fileName sh -c \\'unzip -o -d \"$(dirname \"fileName\")\" \"fileName\"\\'')\n",
        "\n",
        "  def clean_folder(self, file_extension='.zip'):\n",
        "    for f1le in self.get_files():\n",
        "      if f1le.endswith(file_extension):\n",
        "        os.remove(f1le)\n",
        "\n",
        "  def reset_folder(self):\n",
        "    shutil.rmtree(self.path)"
      ],
      "execution_count": 5,
      "outputs": []
    },
    {
      "cell_type": "code",
      "metadata": {
        "id": "9XWkqhXiWJ7A",
        "colab_type": "code",
        "colab": {}
      },
      "source": [
        "from sklearn.utils.class_weight import compute_class_weight\n",
        "from sklearn import model_selection\n",
        "\n",
        "class ImageClassifier:\n",
        "\n",
        "  METRICS = [\n",
        "    metrics.TruePositives(name='tp'),\n",
        "    metrics.FalsePositives(name='fp'),\n",
        "    metrics.TrueNegatives(name='tn'),\n",
        "    metrics.FalseNegatives(name='fn'), \n",
        "    metrics.BinaryAccuracy(name='accuracy'),\n",
        "    metrics.Precision(name='precision'),\n",
        "    metrics.Recall(name='recall'),\n",
        "    metrics.AUC(name='auc'),\n",
        "  ]\n",
        "\n",
        "  def __init__(self, base_folder, train_df, batch_size=1024, metrics=None, image_shape=(256, 256, 3), completion_callback=None):\n",
        "    self.base_folder = base_folder\n",
        "    self.batch_size = batch_size\n",
        "    self.train_df = train_df\n",
        "    self.metrics = metrics or ImageClassifier.METRICS\n",
        "    self.results = list()\n",
        "    self.image_shape = image_shape\n",
        "    self.completion_callback = completion_callback\n",
        "\n",
        "  def train(self, model_def, epochs, k_folds=None, class_weight=None, ):\n",
        "    \"\"\"\n",
        "      model_def: function or collection of functions\n",
        "      epochs: epochs for NN\n",
        "      k_folds: mandatory if model_def is fun, if model_def is Iterable, k_folds = len(model_def)\n",
        "    \"\"\"\n",
        "    train_datagen = ImageDataGenerator(rescale=1./255, rotation_range=40, width_shift_range=0.2, fill_mode='nearest', height_shift_range=0.2, zoom_range=0.2, horizontal_flip=True, vertical_flip=True)\n",
        "    val_datagen = ImageDataGenerator(rescale=1./255)\n",
        "    #early_stopping = tf.keras.callbacks.EarlyStopping(monitor='val_auc', verbose=1, patience=3, mode='max', restore_best_weights=True)\n",
        "\n",
        "    if class_weight is None:\n",
        "      class_weight_array = compute_class_weight('balanced', np.unique(self.train_df['target']), self.train_df['target'])\n",
        "      class_weight = {i : class_weight_array[i] for i in range(len(class_weight_array))}\n",
        "      print('computed class weights ' + str(class_weight))\n",
        "\n",
        "    models = []\n",
        "    if isinstance(model_def, collections.Iterable):\n",
        "      models = [model_def_() for model_def_ in model_def]\n",
        "      k_folds = len(models)\n",
        "    else:\n",
        "      models = [model_def() for i in range(k_folds)]\n",
        "\n",
        "    i = 0\n",
        "    skf = model_selection.StratifiedKFold(n_splits=k_folds)\n",
        "    for train_index, test_index in skf.split(self.train_df['image_id_ext'], self.train_df['target']):\n",
        "      model = models[i]\n",
        "      i = i + 1\n",
        "      train_generator = train_datagen.flow_from_dataframe(self.train_df.iloc[train_index], \n",
        "                                                      x_col=\"image_id_ext\",\n",
        "                                                      y_col=\"target\",\n",
        "                                                      directory=self.base_folder + '/train/', \n",
        "                                                      target_size=self.image_shape[0:2], \n",
        "                                                      batch_size=self.batch_size,\n",
        "                                                      class_mode='raw',\n",
        "                                                      validate_filenames=False,)\n",
        "      test_generator = train_datagen.flow_from_dataframe(self.train_df.iloc[test_index], \n",
        "                                                      x_col=\"image_id_ext\",\n",
        "                                                      y_col=\"target\",\n",
        "                                                      directory=self.base_folder + '/train/', \n",
        "                                                      target_size=self.image_shape[0:2], \n",
        "                                                      batch_size=self.batch_size,\n",
        "                                                      class_mode='raw',\n",
        "                                                      validate_filenames=False,\n",
        "                                                      shuffle=False)\n",
        "\n",
        "      history = model.fit_generator(train_generator, \n",
        "                                  steps_per_epoch=len(train_index)//self.batch_size,\n",
        "                                  epochs=epochs,\n",
        "                                  class_weight=class_weight,\n",
        "                                  #callbacks = [early_stopping],\n",
        "                                  validation_data=test_generator,\n",
        "                                  validation_steps=len(test_index)//self.batch_size,\n",
        "                                  )\n",
        "      self.results.append({'model': model, 'history': history})\n",
        "      if self.completion_callback:\n",
        "        self.completion_callback({'model': model, 'history': history})\n",
        "    return self.results\n",
        "\n",
        "\n",
        "  def test(self, test_df, batch_size):\n",
        "    test_datagen = ImageDataGenerator(rescale=1./255)\n",
        "    test_generator = test_datagen.flow_from_dataframe(test_df, \n",
        "                                                      x_col=\"image_id_ext\",\n",
        "                                                      y_col=\"target\",\n",
        "                                                      directory=self.base_folder + '/test/', \n",
        "                                                      target_size=self.image_shape[0:2], \n",
        "                                                      batch_size=batch_size,\n",
        "                                                      class_mode='raw',\n",
        "                                                      validate_filenames=False,\n",
        "                                                      shuffle=False)\n",
        "    probs = np.zeros(len(test_df))\n",
        "    for result in self.results:\n",
        "        model = result['model']\n",
        "        model_probs = model.predict_generator(test_generator, len(test_df)//batch_size, verbose=1)\n",
        "        probs = probs + model_probs.reshape(len(test_df))\n",
        "\n",
        "    return probs / len(self.results)\n",
        "\n"
      ],
      "execution_count": 6,
      "outputs": []
    },
    {
      "cell_type": "code",
      "metadata": {
        "id": "BfPjxPTSKXzb",
        "colab_type": "code",
        "colab": {}
      },
      "source": [
        "# https://github.com/umbertogriffo/focal-loss-keras/blob/master/losses.py\n",
        "def binary_focal_loss(gamma=2., alpha=.25):\n",
        "    \"\"\"\n",
        "    Binary form of focal loss.\n",
        "      FL(p_t) = -alpha * (1 - p_t)**gamma * log(p_t)\n",
        "      where p = sigmoid(x), p_t = p or 1 - p depending on if the label is 1 or 0, respectively.\n",
        "    References:\n",
        "        https://arxiv.org/pdf/1708.02002.pdf\n",
        "    Usage:\n",
        "     model.compile(loss=[binary_focal_loss(alpha=.25, gamma=2)], metrics=[\"accuracy\"], optimizer=adam)\n",
        "    \"\"\"\n",
        "    def binary_focal_loss_fixed(y_true, y_pred):\n",
        "        \"\"\"\n",
        "        :param y_true: A tensor of the same shape as `y_pred`\n",
        "        :param y_pred:  A tensor resulting from a sigmoid\n",
        "        :return: Output tensor.\n",
        "        \"\"\"\n",
        "        pt_1 = tf.where(tf.equal(y_true, 1), y_pred, tf.ones_like(y_pred))\n",
        "        pt_0 = tf.where(tf.equal(y_true, 0), y_pred, tf.zeros_like(y_pred))\n",
        "\n",
        "        epsilon = tf.keras.backend.epsilon()\n",
        "        # clip to prevent NaN's and Inf's\n",
        "        pt_1 = tf.keras.backend.clip(pt_1, epsilon, 1. - epsilon)\n",
        "        pt_0 = tf.keras.backend.clip(pt_0, epsilon, 1. - epsilon)\n",
        "\n",
        "        return -tf.keras.backend.mean(alpha * tf.keras.backend.pow(1. - pt_1, gamma) * tf.keras.backend.log(pt_1)) \\\n",
        "               -tf.keras.backend.mean((1 - alpha) * tf.keras.backend.pow(pt_0, gamma) * tf.keras.backend.log(1. - pt_0))\n",
        "\n",
        "    return binary_focal_loss_fixed"
      ],
      "execution_count": 7,
      "outputs": []
    },
    {
      "cell_type": "markdown",
      "metadata": {
        "id": "pNwbSWFb3qUy",
        "colab_type": "text"
      },
      "source": [
        "## Setup the environment"
      ]
    },
    {
      "cell_type": "code",
      "metadata": {
        "id": "ujLk_T5F3u2y",
        "colab_type": "code",
        "colab": {
          "base_uri": "https://localhost:8080/",
          "height": 122
        },
        "outputId": "26ff6223-ce86-4e90-aafc-79b2cec64ecc"
      },
      "source": [
        "gdrive_mount()"
      ],
      "execution_count": 8,
      "outputs": [
        {
          "output_type": "stream",
          "text": [
            "Go to this URL in a browser: https://accounts.google.com/o/oauth2/auth?client_id=947318989803-6bn6qk8qdgf4n4g3pfee6491hc0brc4i.apps.googleusercontent.com&redirect_uri=urn%3aietf%3awg%3aoauth%3a2.0%3aoob&response_type=code&scope=email%20https%3a%2f%2fwww.googleapis.com%2fauth%2fdocs.test%20https%3a%2f%2fwww.googleapis.com%2fauth%2fdrive%20https%3a%2f%2fwww.googleapis.com%2fauth%2fdrive.photos.readonly%20https%3a%2f%2fwww.googleapis.com%2fauth%2fpeopleapi.readonly\n",
            "\n",
            "Enter your authorization code:\n",
            "··········\n",
            "Mounted at /content/gdrive\n"
          ],
          "name": "stdout"
        }
      ]
    },
    {
      "cell_type": "markdown",
      "metadata": {
        "id": "s5Kyiz8_u_pj",
        "colab_type": "text"
      },
      "source": [
        "## Download data"
      ]
    },
    {
      "cell_type": "code",
      "metadata": {
        "id": "Jw6ymUJTwAD9",
        "colab_type": "code",
        "colab": {}
      },
      "source": [
        "kaggle = Kaggle(dataset_name='shonenkov/melanoma-merged-external-data-512x512-jpeg')"
      ],
      "execution_count": 9,
      "outputs": []
    },
    {
      "cell_type": "code",
      "metadata": {
        "id": "7VbQMPrmx_RB",
        "colab_type": "code",
        "colab": {}
      },
      "source": [
        "kaggle.download()\n",
        "kaggle.unzip()\n",
        "kaggle.clean_folder()"
      ],
      "execution_count": 10,
      "outputs": []
    },
    {
      "cell_type": "code",
      "metadata": {
        "id": "Pok1uDm39akj",
        "colab_type": "code",
        "colab": {}
      },
      "source": [
        "!mkdir '/tmp/shonenkov/melanoma-merged-external-data-512x512-jpeg/train'\n",
        "!mkdir '/tmp/shonenkov/melanoma-merged-external-data-512x512-jpeg/test'"
      ],
      "execution_count": 11,
      "outputs": []
    },
    {
      "cell_type": "code",
      "metadata": {
        "id": "55hu5mE_eUgZ",
        "colab_type": "code",
        "colab": {
          "base_uri": "https://localhost:8080/",
          "height": 34
        },
        "outputId": "90bb4e6e-72b0-4e30-e623-e918036ecd7f"
      },
      "source": [
        "kaggle.show_dirs()"
      ],
      "execution_count": 12,
      "outputs": [
        {
          "output_type": "stream",
          "text": [
            "['512x512-test', 'train', '512x512-dataset-melanoma', 'test']\n"
          ],
          "name": "stdout"
        }
      ]
    },
    {
      "cell_type": "code",
      "metadata": {
        "id": "cVFykZ5eBMb-",
        "colab_type": "code",
        "colab": {}
      },
      "source": [
        "!find /tmp/shonenkov/melanoma-merged-external-data-512x512-jpeg/512x512-dataset-melanoma/512x512-dataset-melanoma/ -type f -print0 | xargs -0 mv -t /tmp/shonenkov/melanoma-merged-external-data-512x512-jpeg/train/"
      ],
      "execution_count": 13,
      "outputs": []
    },
    {
      "cell_type": "code",
      "metadata": {
        "id": "tn1Q9p8e9WZI",
        "colab_type": "code",
        "colab": {}
      },
      "source": [
        "!mv /tmp/shonenkov/melanoma-merged-external-data-512x512-jpeg/512x512-test/512x512-test/* /tmp/shonenkov/melanoma-merged-external-data-512x512-jpeg/test"
      ],
      "execution_count": 14,
      "outputs": []
    },
    {
      "cell_type": "code",
      "metadata": {
        "id": "zkdIsF1RChbF",
        "colab_type": "code",
        "colab": {
          "base_uri": "https://localhost:8080/",
          "height": 34
        },
        "outputId": "e6032067-4bdf-4ac4-b326-91d43d18eff0"
      },
      "source": [
        "!ls /tmp/shonenkov/melanoma-merged-external-data-512x512-jpeg/train/ | wc -l"
      ],
      "execution_count": 15,
      "outputs": [
        {
          "output_type": "stream",
          "text": [
            "60487\n"
          ],
          "name": "stdout"
        }
      ]
    },
    {
      "cell_type": "code",
      "metadata": {
        "id": "s_hStLffCmNF",
        "colab_type": "code",
        "colab": {
          "base_uri": "https://localhost:8080/",
          "height": 34
        },
        "outputId": "25c877a8-7573-4684-b9d7-b8642dce4c76"
      },
      "source": [
        "!ls /tmp/shonenkov/melanoma-merged-external-data-512x512-jpeg/test/ | wc -l"
      ],
      "execution_count": 16,
      "outputs": [
        {
          "output_type": "stream",
          "text": [
            "10982\n"
          ],
          "name": "stdout"
        }
      ]
    },
    {
      "cell_type": "code",
      "metadata": {
        "id": "3jHOzUnH_jRL",
        "colab_type": "code",
        "colab": {}
      },
      "source": [
        "train_df = pd.read_csv(os.path.join(kaggle.path, 'marking.csv'))"
      ],
      "execution_count": 17,
      "outputs": []
    },
    {
      "cell_type": "code",
      "metadata": {
        "id": "oi8-QUQ-UxgB",
        "colab_type": "code",
        "colab": {
          "base_uri": "https://localhost:8080/",
          "height": 34
        },
        "outputId": "4f8d9853-2f57-4776-b6d3-b63715a488f6"
      },
      "source": [
        "train_df.shape"
      ],
      "execution_count": 18,
      "outputs": [
        {
          "output_type": "execute_result",
          "data": {
            "text/plain": [
              "(60487, 7)"
            ]
          },
          "metadata": {
            "tags": []
          },
          "execution_count": 18
        }
      ]
    },
    {
      "cell_type": "code",
      "metadata": {
        "id": "4dumyNtJT3WW",
        "colab_type": "code",
        "colab": {
          "base_uri": "https://localhost:8080/",
          "height": 204
        },
        "outputId": "ac363fbd-8e1b-457c-e169-66f0bd7250b5"
      },
      "source": [
        "train_df.head()"
      ],
      "execution_count": 19,
      "outputs": [
        {
          "output_type": "execute_result",
          "data": {
            "text/html": [
              "<div>\n",
              "<style scoped>\n",
              "    .dataframe tbody tr th:only-of-type {\n",
              "        vertical-align: middle;\n",
              "    }\n",
              "\n",
              "    .dataframe tbody tr th {\n",
              "        vertical-align: top;\n",
              "    }\n",
              "\n",
              "    .dataframe thead th {\n",
              "        text-align: right;\n",
              "    }\n",
              "</style>\n",
              "<table border=\"1\" class=\"dataframe\">\n",
              "  <thead>\n",
              "    <tr style=\"text-align: right;\">\n",
              "      <th></th>\n",
              "      <th>patient_id</th>\n",
              "      <th>image_id</th>\n",
              "      <th>target</th>\n",
              "      <th>source</th>\n",
              "      <th>sex</th>\n",
              "      <th>age_approx</th>\n",
              "      <th>anatom_site_general_challenge</th>\n",
              "    </tr>\n",
              "  </thead>\n",
              "  <tbody>\n",
              "    <tr>\n",
              "      <th>0</th>\n",
              "      <td>IP_7279968</td>\n",
              "      <td>ISIC_2637011</td>\n",
              "      <td>0</td>\n",
              "      <td>ISIC20</td>\n",
              "      <td>male</td>\n",
              "      <td>45.0</td>\n",
              "      <td>head/neck</td>\n",
              "    </tr>\n",
              "    <tr>\n",
              "      <th>1</th>\n",
              "      <td>IP_3075186</td>\n",
              "      <td>ISIC_0015719</td>\n",
              "      <td>0</td>\n",
              "      <td>ISIC20</td>\n",
              "      <td>female</td>\n",
              "      <td>45.0</td>\n",
              "      <td>upper extremity</td>\n",
              "    </tr>\n",
              "    <tr>\n",
              "      <th>2</th>\n",
              "      <td>IP_2842074</td>\n",
              "      <td>ISIC_0052212</td>\n",
              "      <td>0</td>\n",
              "      <td>ISIC20</td>\n",
              "      <td>female</td>\n",
              "      <td>50.0</td>\n",
              "      <td>lower extremity</td>\n",
              "    </tr>\n",
              "    <tr>\n",
              "      <th>3</th>\n",
              "      <td>IP_6890425</td>\n",
              "      <td>ISIC_0068279</td>\n",
              "      <td>0</td>\n",
              "      <td>ISIC20</td>\n",
              "      <td>female</td>\n",
              "      <td>45.0</td>\n",
              "      <td>head/neck</td>\n",
              "    </tr>\n",
              "    <tr>\n",
              "      <th>4</th>\n",
              "      <td>IP_8723313</td>\n",
              "      <td>ISIC_0074268</td>\n",
              "      <td>0</td>\n",
              "      <td>ISIC20</td>\n",
              "      <td>female</td>\n",
              "      <td>55.0</td>\n",
              "      <td>upper extremity</td>\n",
              "    </tr>\n",
              "  </tbody>\n",
              "</table>\n",
              "</div>"
            ],
            "text/plain": [
              "   patient_id      image_id  ...  age_approx anatom_site_general_challenge\n",
              "0  IP_7279968  ISIC_2637011  ...        45.0                     head/neck\n",
              "1  IP_3075186  ISIC_0015719  ...        45.0               upper extremity\n",
              "2  IP_2842074  ISIC_0052212  ...        50.0               lower extremity\n",
              "3  IP_6890425  ISIC_0068279  ...        45.0                     head/neck\n",
              "4  IP_8723313  ISIC_0074268  ...        55.0               upper extremity\n",
              "\n",
              "[5 rows x 7 columns]"
            ]
          },
          "metadata": {
            "tags": []
          },
          "execution_count": 19
        }
      ]
    },
    {
      "cell_type": "code",
      "metadata": {
        "id": "ECEBVysYT6S-",
        "colab_type": "code",
        "colab": {
          "base_uri": "https://localhost:8080/",
          "height": 68
        },
        "outputId": "6c7babbf-1f38-4821-a680-08c5ec849f5a"
      },
      "source": [
        "# imbalanced data\n",
        "train_df['target'].value_counts()"
      ],
      "execution_count": 20,
      "outputs": [
        {
          "output_type": "execute_result",
          "data": {
            "text/plain": [
              "0    55008\n",
              "1     5479\n",
              "Name: target, dtype: int64"
            ]
          },
          "metadata": {
            "tags": []
          },
          "execution_count": 20
        }
      ]
    },
    {
      "cell_type": "code",
      "metadata": {
        "id": "4u1gGpR1f3oi",
        "colab_type": "code",
        "colab": {}
      },
      "source": [
        "train_df['image_id_ext'] = train_df['image_id'] + '.jpg'"
      ],
      "execution_count": 21,
      "outputs": []
    },
    {
      "cell_type": "code",
      "metadata": {
        "id": "L5R3gCSRkWB5",
        "colab_type": "code",
        "colab": {}
      },
      "source": [
        "def model_def1():\n",
        "  print('creating model model_def1')\n",
        "  sgd = optimizers.Adam(learning_rate=0.001)\n",
        "\n",
        "  conv_base = efn.EfficientNetB0(weights='imagenet', include_top=False, input_shape=(256, 256, 3))\n",
        "  conv_base.trainable = False\n",
        "  \n",
        "  for layer in conv_base.layers:\n",
        "    layer.trainable = False\n",
        "  model = models.Sequential()\n",
        "  model.add(conv_base)\n",
        "  model.add(layers.Flatten())\n",
        "  model.add(layers.Dense(256, activation='relu', kernel_regularizer=regularizers.l1_l2(l1=1e-5, l2=1e-4)))\n",
        "  model.add(layers.Dropout(0.2))\n",
        "  model.add(layers.Dense(128, activation='relu', kernel_regularizer=regularizers.l1_l2(l1=1e-5, l2=1e-4)))\n",
        "  model.add(layers.Dense(1, activation='sigmoid'))\n",
        "  model.compile(loss='binary_crossentropy', optimizer=sgd, metrics=ImageClassifier.METRICS)\n",
        "  return model"
      ],
      "execution_count": 39,
      "outputs": []
    },
    {
      "cell_type": "code",
      "metadata": {
        "id": "V7jgaECQ-yye",
        "colab_type": "code",
        "colab": {}
      },
      "source": [
        "def model_def2():\n",
        "  print('creating model model_def2')\n",
        "  sgd = optimizers.Adam(learning_rate=0.001)\n",
        "\n",
        "  conv_base = VGG16(weights='imagenet', include_top=False, input_shape=(256, 256, 3))\n",
        "  conv_base.trainable = False\n",
        "  \n",
        "  for layer in conv_base.layers:\n",
        "    layer.trainable = False\n",
        "  model = models.Sequential()\n",
        "  model.add(conv_base)\n",
        "  model.add(layers.Flatten())\n",
        "  model.add(layers.Dense(256, activation='relu', kernel_regularizer=regularizers.l1_l2(l1=1e-5, l2=1e-4)))\n",
        "  model.add(layers.Dropout(0.2))\n",
        "  model.add(layers.Dense(128, activation='relu', kernel_regularizer=regularizers.l1_l2(l1=1e-5, l2=1e-4)))\n",
        "  model.add(layers.Dense(1, activation='sigmoid'))\n",
        "  model.compile(loss='binary_crossentropy', optimizer=sgd, metrics=ImageClassifier.METRICS)\n",
        "  return model"
      ],
      "execution_count": 40,
      "outputs": []
    },
    {
      "cell_type": "code",
      "metadata": {
        "id": "IV3QntCR0EnM",
        "colab_type": "code",
        "colab": {}
      },
      "source": [
        "def model_def3():\n",
        "  print('creating model model_def3')\n",
        "  sgd = optimizers.Adam(learning_rate=0.001)\n",
        "\n",
        "  conv_base = ResNet152V2(weights='imagenet', include_top=False, input_shape=(256, 256, 3))\n",
        "  conv_base.trainable = False\n",
        "  \n",
        "  for layer in conv_base.layers:\n",
        "    layer.trainable = False\n",
        "  model = models.Sequential()\n",
        "  model.add(conv_base)\n",
        "  model.add(layers.Flatten())\n",
        "  model.add(layers.Dense(256, activation='relu', kernel_regularizer=regularizers.l1_l2(l1=1e-5, l2=1e-4)))\n",
        "  model.add(layers.Dropout(0.2))\n",
        "  model.add(layers.Dense(128, activation='relu', kernel_regularizer=regularizers.l1_l2(l1=1e-5, l2=1e-4)))\n",
        "  model.add(layers.Dense(1, activation='sigmoid'))\n",
        "  model.compile(loss='binary_crossentropy', optimizer=sgd, metrics=ImageClassifier.METRICS)\n",
        "  return model"
      ],
      "execution_count": 41,
      "outputs": []
    },
    {
      "cell_type": "markdown",
      "metadata": {
        "id": "NvZiQXURDDJ4",
        "colab_type": "text"
      },
      "source": [
        "# Prep the mode"
      ]
    },
    {
      "cell_type": "code",
      "metadata": {
        "id": "0I4GlGJGEgoR",
        "colab_type": "code",
        "colab": {}
      },
      "source": [
        "original_train_df = train_df"
      ],
      "execution_count": 25,
      "outputs": []
    },
    {
      "cell_type": "code",
      "metadata": {
        "id": "TedCeV7aEyc_",
        "colab_type": "code",
        "colab": {}
      },
      "source": [
        "#train_df = original_train_df"
      ],
      "execution_count": 26,
      "outputs": []
    },
    {
      "cell_type": "code",
      "metadata": {
        "id": "rK-UjL51ESNS",
        "colab_type": "code",
        "colab": {}
      },
      "source": [
        "#train_df = pd.concat([original_train_df[original_train_df['target'] == 1], original_train_df[original_train_df['target'] == 0].sample(len(original_train_df[original_train_df['target'] == 1]))])"
      ],
      "execution_count": 27,
      "outputs": []
    },
    {
      "cell_type": "code",
      "metadata": {
        "id": "UjsmNohWEpIt",
        "colab_type": "code",
        "colab": {
          "base_uri": "https://localhost:8080/",
          "height": 34
        },
        "outputId": "be0ba3f1-748a-47f5-de15-00176b8dff81"
      },
      "source": [
        "train_df.shape, train_df[train_df['target'] == 1].shape, train_df[train_df['target'] == 0].shape "
      ],
      "execution_count": 28,
      "outputs": [
        {
          "output_type": "execute_result",
          "data": {
            "text/plain": [
              "((60487, 8), (5479, 8), (55008, 8))"
            ]
          },
          "metadata": {
            "tags": []
          },
          "execution_count": 28
        }
      ]
    },
    {
      "cell_type": "code",
      "metadata": {
        "id": "N78tl-GNAeux",
        "colab_type": "code",
        "colab": {}
      },
      "source": [
        "#train_df = train_df.sample(128*2)"
      ],
      "execution_count": 29,
      "outputs": []
    },
    {
      "cell_type": "code",
      "metadata": {
        "id": "IIi0v4qkBCLc",
        "colab_type": "code",
        "colab": {}
      },
      "source": [
        "#len(train_df[train_df['target'] == 1])"
      ],
      "execution_count": 30,
      "outputs": []
    },
    {
      "cell_type": "code",
      "metadata": {
        "id": "om3QXxI0Vq2C",
        "colab_type": "code",
        "colab": {}
      },
      "source": [
        "def save_model(res_model): \n",
        "  model = res_model['model']\n",
        "  model.save('/content/gdrive/My Drive/Colab Notebooks/.kaggle/siim-isic-melanoma-classification/revisit_final_ensemble.h5')"
      ],
      "execution_count": 31,
      "outputs": []
    },
    {
      "cell_type": "code",
      "metadata": {
        "id": "v2ruqGfpDFDQ",
        "colab_type": "code",
        "colab": {}
      },
      "source": [
        "classifier = ImageClassifier(kaggle.path, train_df, batch_size=256, completion_callback=save_model)"
      ],
      "execution_count": 42,
      "outputs": []
    },
    {
      "cell_type": "code",
      "metadata": {
        "id": "ypTouhHzDNUm",
        "colab_type": "code",
        "colab": {
          "base_uri": "https://localhost:8080/",
          "height": 513
        },
        "outputId": "0e2e4a9b-5259-4b03-aff1-77dbd10615bb"
      },
      "source": [
        "result = classifier.train([model_def1, model_def2, model_def3], 2, class_weight = {0: 1, 1: 8})"
      ],
      "execution_count": 43,
      "outputs": [
        {
          "output_type": "stream",
          "text": [
            "creating model model_def1\n",
            "creating model model_def2\n",
            "Downloading data from https://storage.googleapis.com/tensorflow/keras-applications/vgg16/vgg16_weights_tf_dim_ordering_tf_kernels_notop.h5\n",
            "58892288/58889256 [==============================] - 0s 0us/step\n",
            "creating model model_def3\n",
            "Downloading data from https://storage.googleapis.com/tensorflow/keras-applications/resnet/resnet152v2_weights_tf_dim_ordering_tf_kernels_notop.h5\n",
            "234553344/234545216 [==============================] - 4s 0us/step\n",
            "Found 40324 non-validated image filenames.\n",
            "Found 20163 non-validated image filenames.\n",
            "WARNING:tensorflow:From <ipython-input-6-b6010c315dd4>:77: Model.fit_generator (from tensorflow.python.keras.engine.training) is deprecated and will be removed in a future version.\n",
            "Instructions for updating:\n",
            "Please use Model.fit, which supports generators.\n",
            "Epoch 1/2\n",
            "157/157 [==============================] - 1324s 8s/step - loss: 2.5344 - tp: 2431.0000 - fp: 9085.0000 - tn: 27351.0000 - fn: 1201.0000 - accuracy: 0.7433 - precision: 0.2111 - recall: 0.6693 - auc: 0.7718 - val_loss: 1.1115 - val_tp: 518.0000 - val_fp: 697.0000 - val_tn: 17639.0000 - val_fn: 1114.0000 - val_accuracy: 0.9093 - val_precision: 0.4263 - val_recall: 0.3174 - val_auc: 0.8254\n",
            "Epoch 2/2\n",
            "157/157 [==============================] - 1261s 8s/step - loss: 1.5368 - tp: 2635.0000 - fp: 7557.0000 - tn: 28875.0000 - fn: 1001.0000 - accuracy: 0.7864 - precision: 0.2585 - recall: 0.7247 - auc: 0.8429 - val_loss: 0.8664 - val_tp: 793.0000 - val_fp: 1331.0000 - val_tn: 17005.0000 - val_fn: 839.0000 - val_accuracy: 0.8913 - val_precision: 0.3734 - val_recall: 0.4859 - val_auc: 0.8432\n",
            "Found 40325 non-validated image filenames.\n",
            "Found 20162 non-validated image filenames.\n",
            "Epoch 1/2\n",
            "157/157 [==============================] - 1471s 9s/step - loss: 1.2952 - tp: 2914.0000 - fp: 11030.0000 - tn: 43750.0000 - fn: 2343.0000 - accuracy: 0.7773 - precision: 0.2090 - recall: 0.5543 - auc: 0.7529 - val_loss: 0.6057 - val_tp: 1311.0000 - val_fp: 4248.0000 - val_tn: 14088.0000 - val_fn: 321.0000 - val_accuracy: 0.7712 - val_precision: 0.2358 - val_recall: 0.8033 - val_auc: 0.8762\n",
            "Epoch 2/2\n",
            "157/157 [==============================] - 1446s 9s/step - loss: 1.0361 - tp: 2330.0000 - fp: 8480.0000 - tn: 27958.0000 - fn: 1301.0000 - accuracy: 0.7559 - precision: 0.2155 - recall: 0.6417 - auc: 0.7826 - val_loss: 0.5846 - val_tp: 1364.0000 - val_fp: 4366.0000 - val_tn: 13970.0000 - val_fn: 268.0000 - val_accuracy: 0.7679 - val_precision: 0.2380 - val_recall: 0.8358 - val_auc: 0.8824\n",
            "Found 40325 non-validated image filenames.\n",
            "Found 20162 non-validated image filenames.\n",
            "Epoch 1/2\n",
            "157/157 [==============================] - 1593s 10s/step - loss: 2.5968 - tp: 3968.0000 - fp: 10989.0000 - tn: 43776.0000 - fn: 1304.0000 - accuracy: 0.7952 - precision: 0.2653 - recall: 0.7527 - auc: 0.8271 - val_loss: 4.6547 - val_tp: 1621.0000 - val_fp: 13143.0000 - val_tn: 5075.0000 - val_fn: 129.0000 - val_accuracy: 0.3353 - val_precision: 0.1098 - val_recall: 0.9263 - val_auc: 0.7140\n",
            "Epoch 2/2\n",
            "157/157 [==============================] - 1585s 10s/step - loss: 1.3681 - tp: 2801.0000 - fp: 4749.0000 - tn: 31694.0000 - fn: 825.0000 - accuracy: 0.8609 - precision: 0.3710 - recall: 0.7725 - auc: 0.8981 - val_loss: 3.3845 - val_tp: 1608.0000 - val_fp: 12579.0000 - val_tn: 5639.0000 - val_fn: 142.0000 - val_accuracy: 0.3629 - val_precision: 0.1133 - val_recall: 0.9189 - val_auc: 0.7201\n"
          ],
          "name": "stdout"
        }
      ]
    },
    {
      "cell_type": "code",
      "metadata": {
        "id": "pUguX74-tV_v",
        "colab_type": "code",
        "colab": {}
      },
      "source": [
        "i = 1\n",
        "for res_model in classifier.results:\n",
        "  model = res_model['model']\n",
        "  model.save('/content/gdrive/My Drive/Colab Notebooks/.kaggle/siim-isic-melanoma-classification/revisit_final_ensemble' + str(i) +'.h5')\n",
        "  i = i + 1"
      ],
      "execution_count": 44,
      "outputs": []
    },
    {
      "cell_type": "code",
      "metadata": {
        "id": "oc-tRQ4GEeTn",
        "colab_type": "code",
        "colab": {}
      },
      "source": [
        ""
      ],
      "execution_count": null,
      "outputs": []
    },
    {
      "cell_type": "markdown",
      "metadata": {
        "id": "KnXLh8R5E-l4",
        "colab_type": "text"
      },
      "source": [
        "# Test"
      ]
    },
    {
      "cell_type": "code",
      "metadata": {
        "id": "3e1gbrnNE_gJ",
        "colab_type": "code",
        "colab": {}
      },
      "source": [
        "test_images = kaggle.get_files('test')"
      ],
      "execution_count": 45,
      "outputs": []
    },
    {
      "cell_type": "code",
      "metadata": {
        "id": "fxQwqntHFTrB",
        "colab_type": "code",
        "colab": {}
      },
      "source": [
        "test_image_ext = [os.path.split(test_image)[1] for test_image in test_images]"
      ],
      "execution_count": 46,
      "outputs": []
    },
    {
      "cell_type": "code",
      "metadata": {
        "id": "kuijMCW0Ft1K",
        "colab_type": "code",
        "colab": {}
      },
      "source": [
        "test_df = pd.DataFrame({'image_id_ext': test_image_ext})"
      ],
      "execution_count": 47,
      "outputs": []
    },
    {
      "cell_type": "code",
      "metadata": {
        "id": "2DZUl6dxGbWQ",
        "colab_type": "code",
        "colab": {
          "base_uri": "https://localhost:8080/",
          "height": 34
        },
        "outputId": "8c3341c2-dfb0-482d-c184-17d36ac4e7b5"
      },
      "source": [
        "len(test_df)"
      ],
      "execution_count": 48,
      "outputs": [
        {
          "output_type": "execute_result",
          "data": {
            "text/plain": [
              "10982"
            ]
          },
          "metadata": {
            "tags": []
          },
          "execution_count": 48
        }
      ]
    },
    {
      "cell_type": "code",
      "metadata": {
        "id": "Yy-Chjf-HD2_",
        "colab_type": "code",
        "colab": {}
      },
      "source": [
        "test_df['target'] = 0"
      ],
      "execution_count": 49,
      "outputs": []
    },
    {
      "cell_type": "code",
      "metadata": {
        "id": "Pcfvy5WiHFtv",
        "colab_type": "code",
        "colab": {
          "base_uri": "https://localhost:8080/",
          "height": 204
        },
        "outputId": "8ec04ae7-453e-44ce-e65e-d15c24cbdac0"
      },
      "source": [
        "test_df.head()"
      ],
      "execution_count": 50,
      "outputs": [
        {
          "output_type": "execute_result",
          "data": {
            "text/html": [
              "<div>\n",
              "<style scoped>\n",
              "    .dataframe tbody tr th:only-of-type {\n",
              "        vertical-align: middle;\n",
              "    }\n",
              "\n",
              "    .dataframe tbody tr th {\n",
              "        vertical-align: top;\n",
              "    }\n",
              "\n",
              "    .dataframe thead th {\n",
              "        text-align: right;\n",
              "    }\n",
              "</style>\n",
              "<table border=\"1\" class=\"dataframe\">\n",
              "  <thead>\n",
              "    <tr style=\"text-align: right;\">\n",
              "      <th></th>\n",
              "      <th>image_id_ext</th>\n",
              "      <th>target</th>\n",
              "    </tr>\n",
              "  </thead>\n",
              "  <tbody>\n",
              "    <tr>\n",
              "      <th>0</th>\n",
              "      <td>ISIC_2827942.jpg</td>\n",
              "      <td>0</td>\n",
              "    </tr>\n",
              "    <tr>\n",
              "      <th>1</th>\n",
              "      <td>ISIC_3293577.jpg</td>\n",
              "      <td>0</td>\n",
              "    </tr>\n",
              "    <tr>\n",
              "      <th>2</th>\n",
              "      <td>ISIC_1105085.jpg</td>\n",
              "      <td>0</td>\n",
              "    </tr>\n",
              "    <tr>\n",
              "      <th>3</th>\n",
              "      <td>ISIC_8517129.jpg</td>\n",
              "      <td>0</td>\n",
              "    </tr>\n",
              "    <tr>\n",
              "      <th>4</th>\n",
              "      <td>ISIC_6185319.jpg</td>\n",
              "      <td>0</td>\n",
              "    </tr>\n",
              "  </tbody>\n",
              "</table>\n",
              "</div>"
            ],
            "text/plain": [
              "       image_id_ext  target\n",
              "0  ISIC_2827942.jpg       0\n",
              "1  ISIC_3293577.jpg       0\n",
              "2  ISIC_1105085.jpg       0\n",
              "3  ISIC_8517129.jpg       0\n",
              "4  ISIC_6185319.jpg       0"
            ]
          },
          "metadata": {
            "tags": []
          },
          "execution_count": 50
        }
      ]
    },
    {
      "cell_type": "code",
      "metadata": {
        "id": "oR31x_5juWSY",
        "colab_type": "code",
        "colab": {
          "base_uri": "https://localhost:8080/",
          "height": 136
        },
        "outputId": "82b2fac3-5211-4737-a134-aeb21e6c168d"
      },
      "source": [
        "probs = classifier.test(test_df, 38)"
      ],
      "execution_count": 51,
      "outputs": [
        {
          "output_type": "stream",
          "text": [
            "Found 10982 non-validated image filenames.\n",
            "WARNING:tensorflow:From <ipython-input-6-b6010c315dd4>:99: Model.predict_generator (from tensorflow.python.keras.engine.training) is deprecated and will be removed in a future version.\n",
            "Instructions for updating:\n",
            "Please use Model.predict, which supports generators.\n",
            "289/289 [==============================] - 94s 324ms/step\n",
            "289/289 [==============================] - 142s 490ms/step\n",
            "289/289 [==============================] - 219s 757ms/step\n"
          ],
          "name": "stdout"
        }
      ]
    },
    {
      "cell_type": "code",
      "metadata": {
        "id": "uy2_b7ZQ6qxv",
        "colab_type": "code",
        "colab": {
          "base_uri": "https://localhost:8080/",
          "height": 85
        },
        "outputId": "b7827cd7-7ec5-45b5-f8fc-2a1b9402a684"
      },
      "source": [
        "test_datagen = ImageDataGenerator(rescale=1./255)\n",
        "test_generator = test_datagen.flow_from_dataframe(test_df, \n",
        "                                                  x_col=\"image_id_ext\",\n",
        "                                                  y_col=\"target\",\n",
        "                                                  directory=kaggle.path + '/test/', \n",
        "                                                  target_size=classifier.image_shape[0:2], \n",
        "                                                  batch_size=38,\n",
        "                                                  class_mode='raw',\n",
        "                                                  validate_filenames=False,\n",
        "                                                  shuffle=False)\n",
        "probs = np.zeros(len(test_df))\n",
        "for result in classifier.results:\n",
        "    model = result['model']\n",
        "    model_probs = model.predict_generator(test_generator, len(test_df)//38, verbose=1)\n",
        "    probs = probs + model_probs.reshape(len(test_df))\n",
        "\n",
        "probs = probs / 3"
      ],
      "execution_count": 59,
      "outputs": [
        {
          "output_type": "stream",
          "text": [
            "Found 10982 non-validated image filenames.\n",
            "289/289 [==============================] - 83s 286ms/step\n",
            "289/289 [==============================] - 142s 490ms/step\n",
            "289/289 [==============================] - 219s 757ms/step\n"
          ],
          "name": "stdout"
        }
      ]
    },
    {
      "cell_type": "code",
      "metadata": {
        "id": "Xyj38Wp8XEtH",
        "colab_type": "code",
        "colab": {}
      },
      "source": [
        "test_df['target'] = probs"
      ],
      "execution_count": 60,
      "outputs": []
    },
    {
      "cell_type": "code",
      "metadata": {
        "id": "5D_xK9o9XOS7",
        "colab_type": "code",
        "colab": {}
      },
      "source": [
        "test_df['image_name'] = [sds[0] for sds in test_df['image_id_ext'].str.split(\".\")]"
      ],
      "execution_count": 61,
      "outputs": []
    },
    {
      "cell_type": "code",
      "metadata": {
        "id": "Q1uwOL5wIsye",
        "colab_type": "code",
        "colab": {}
      },
      "source": [
        "test_df[['image_name', 'target']].to_csv('/content/gdrive/My Drive/Colab Notebooks/.kaggle/siim-isic-melanoma-classification/revisit_final_ensemble_result.csv', index=False)"
      ],
      "execution_count": 62,
      "outputs": []
    },
    {
      "cell_type": "code",
      "metadata": {
        "id": "Ura6ddo-LbEo",
        "colab_type": "code",
        "colab": {
          "base_uri": "https://localhost:8080/",
          "height": 282
        },
        "outputId": "47093486-8d3c-4f52-fbaf-ec78d5ebba8b"
      },
      "source": [
        "test_df['target'].plot.hist(10)"
      ],
      "execution_count": 63,
      "outputs": [
        {
          "output_type": "execute_result",
          "data": {
            "text/plain": [
              "<matplotlib.axes._subplots.AxesSubplot at 0x7f944a477f28>"
            ]
          },
          "metadata": {
            "tags": []
          },
          "execution_count": 63
        },
        {
          "output_type": "display_data",
          "data": {
            "image/png": "[encoded data removed]",
            "text/plain": [
              "<Figure size 432x288 with 1 Axes>"
            ]
          },
          "metadata": {
            "tags": [],
            "needs_background": "light"
          }
        }
      ]
    },
    {
      "cell_type": "code",
      "metadata": {
        "id": "djlvNPvKX3Yj",
        "colab_type": "code",
        "colab": {}
      },
      "source": [
        "from google.colab import files\n",
        "files.download('/content/gdrive/My Drive/Colab Notebooks/.kaggle/siim-isic-melanoma-classification/revisit_final_ensemble_result.csv')"
      ],
      "execution_count": 64,
      "outputs": []
    },
    {
      "cell_type": "code",
      "metadata": {
        "id": "dijWoHuZYLvp",
        "colab_type": "code",
        "colab": {}
      },
      "source": [
        ""
      ],
      "execution_count": null,
      "outputs": []
    }
  ]
}